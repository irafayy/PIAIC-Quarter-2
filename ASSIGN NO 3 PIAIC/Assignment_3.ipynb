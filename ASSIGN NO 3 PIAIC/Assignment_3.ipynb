{
  "cells": [
    {
      "cell_type": "code",
      "execution_count": null,
      "metadata": {
        "id": "jYvKcg3HB2fJ",
        "outputId": "15d61e80-0186-4201-cfe2-f8b87738c3da"
      },
      "outputs": [
        {
          "name": "stdout",
          "output_type": "stream",
          "text": [
            "Defaulting to user installation because normal site-packages is not writeable\n",
            "Collecting requests\n",
            "  Downloading requests-2.32.3-py3-none-any.whl.metadata (4.6 kB)\n",
            "Collecting pillow\n",
            "  Downloading pillow-11.0.0-cp312-cp312-win_amd64.whl.metadata (9.3 kB)\n",
            "Collecting charset-normalizer<4,>=2 (from requests)\n",
            "  Downloading charset_normalizer-3.4.0-cp312-cp312-win_amd64.whl.metadata (34 kB)\n",
            "Collecting idna<4,>=2.5 (from requests)\n",
            "  Downloading idna-3.10-py3-none-any.whl.metadata (10 kB)\n",
            "Collecting urllib3<3,>=1.21.1 (from requests)\n",
            "  Downloading urllib3-2.2.3-py3-none-any.whl.metadata (6.5 kB)\n",
            "Collecting certifi>=2017.4.17 (from requests)\n",
            "  Downloading certifi-2024.12.14-py3-none-any.whl.metadata (2.3 kB)\n",
            "Downloading requests-2.32.3-py3-none-any.whl (64 kB)\n",
            "Downloading pillow-11.0.0-cp312-cp312-win_amd64.whl (2.6 MB)\n",
            "   ---------------------------------------- 0.0/2.6 MB ? eta -:--:--\n",
            "   ---------------------------------------- 0.0/2.6 MB ? eta -:--:--\n",
            "   ---- ----------------------------------- 0.3/2.6 MB ? eta -:--:--\n",
            "   -------- ------------------------------- 0.5/2.6 MB 837.5 kB/s eta 0:00:03\n",
            "   -------- ------------------------------- 0.5/2.6 MB 837.5 kB/s eta 0:00:03\n",
            "   ------------ --------------------------- 0.8/2.6 MB 860.9 kB/s eta 0:00:03\n",
            "   ---------------- ----------------------- 1.0/2.6 MB 882.6 kB/s eta 0:00:02\n",
            "   -------------------- ------------------- 1.3/2.6 MB 882.6 kB/s eta 0:00:02\n",
            "   ------------------------ --------------- 1.6/2.6 MB 892.3 kB/s eta 0:00:02\n",
            "   ------------------------ --------------- 1.6/2.6 MB 892.3 kB/s eta 0:00:02\n",
            "   ---------------------------- ----------- 1.8/2.6 MB 890.6 kB/s eta 0:00:01\n",
            "   -------------------------------- ------- 2.1/2.6 MB 851.1 kB/s eta 0:00:01\n",
            "   -------------------------------- ------- 2.1/2.6 MB 851.1 kB/s eta 0:00:01\n",
            "   ------------------------------------ --- 2.4/2.6 MB 838.9 kB/s eta 0:00:01\n",
            "   ---------------------------------------- 2.6/2.6 MB 833.5 kB/s eta 0:00:00\n",
            "Downloading certifi-2024.12.14-py3-none-any.whl (164 kB)\n",
            "Downloading charset_normalizer-3.4.0-cp312-cp312-win_amd64.whl (102 kB)\n",
            "Downloading idna-3.10-py3-none-any.whl (70 kB)\n",
            "Downloading urllib3-2.2.3-py3-none-any.whl (126 kB)\n",
            "Installing collected packages: urllib3, pillow, idna, charset-normalizer, certifi, requests\n",
            "Successfully installed certifi-2024.12.14 charset-normalizer-3.4.0 idna-3.10 pillow-11.0.0 requests-2.32.3 urllib3-2.2.3\n"
          ]
        }
      ],
      "source": [
        "!pip install requests pillow\n"
      ]
    },
    {
      "cell_type": "code",
      "execution_count": null,
      "metadata": {
        "id": "Ul39X71iB2fR"
      },
      "outputs": [],
      "source": [
        "import requests\n",
        "from PIL import Image\n",
        "import base64\n",
        "import json\n",
        "from google.colab import userdata\n",
        "userdata.get('GOOGLE_API_KEY')\n",
        "\n",
        "API_KEY = \"GOOGLE_API_KEY\"\n",
        "API_URL = \"https://api.gemini.com/v1/prompt\"\n",
        "\n",
        "\n",
        "headers = {\n",
        "    \"Authorization\": f\"Bearer {API_KEY}\",\n",
        "    \"Content-Type\": \"application/json\"\n",
        "}\n"
      ]
    },
    {
      "cell_type": "code",
      "execution_count": null,
      "metadata": {
        "id": "C2G7i5lDB2fS"
      },
      "outputs": [],
      "source": [
        "\n",
        "image_path = \"/content/images.jpeg\"\n",
        "with open(image_path, \"rb\") as img_file:\n",
        "    encoded_image = base64.b64encode(img_file.read()).decode(\"utf-8\")\n"
      ]
    },
    {
      "cell_type": "code",
      "execution_count": null,
      "metadata": {
        "id": "ffb2J3sFB2fT"
      },
      "outputs": [],
      "source": [
        "\n",
        "payload = {\n",
        "    \"model\": \"gemini-v1\",\n",
        "    \"inputs\": {\n",
        "        \"image\": encoded_image,\n",
        "        \"text\": \"Describe the content of this image.\"\n",
        "    },\n",
        "    \"parameters\": {\n",
        "        \"max_tokens\": 200,\n",
        "        \"temperature\": 0.7,\n",
        "        \"top_p\": 1.0\n",
        "    }\n",
        "}\n"
      ]
    },
    {
      "cell_type": "code",
      "execution_count": null,
      "metadata": {
        "colab": {
          "base_uri": "https://localhost:8080/"
        },
        "id": "F5Baa-w0B2fU",
        "outputId": "6526cff8-96fb-4c9c-bafe-a925ff6f0df0"
      },
      "outputs": [
        {
          "output_type": "stream",
          "name": "stdout",
          "text": [
            "Error: 404 {\"result\":\"error\",\"reason\":\"EndpointNotFound\",\"message\":\"API entry point `/v1/prompt` not found\"}\n"
          ]
        }
      ],
      "source": [
        "\n",
        "response = requests.post(API_URL, headers=headers, data=json.dumps(payload))\n",
        "\n",
        "\n",
        "if response.status_code == 200:\n",
        "    output = response.json()\n",
        "    print(\"Model Output:\", output['choices'][0]['text'])\n",
        "else:\n",
        "    print(\"Error:\", response.status_code, response.text)\n"
      ]
    }
  ],
  "metadata": {
    "kernelspec": {
      "display_name": "Python 3",
      "language": "python",
      "name": "python3"
    },
    "language_info": {
      "codemirror_mode": {
        "name": "ipython",
        "version": 3
      },
      "file_extension": ".py",
      "mimetype": "text/x-python",
      "name": "python",
      "nbconvert_exporter": "python",
      "pygments_lexer": "ipython3",
      "version": "3.12.8"
    },
    "colab": {
      "provenance": []
    }
  },
  "nbformat": 4,
  "nbformat_minor": 0
}